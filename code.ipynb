{
 "cells": [
  {
   "cell_type": "code",
   "execution_count": 17,
   "metadata": {},
   "outputs": [],
   "source": [
    "import torch\n",
    "import torch.nn as nn\n",
    "import torch.optim as optim\n",
    "import torch.nn.functional as F\n",
    "from torchvision import datasets, transforms\n",
    "from torch.utils.data import DataLoader\n",
    "import matplotlib.pyplot as plt\n",
    "import numpy as np\n",
    "from tqdm import tqdm\n",
    "import matplotlib.pyplot as plt\n",
    "# Parameters\n",
    "IMAGE_SIZE = 16\n",
    "PIXEL_LEVELS = 4\n",
    "N_FILTERS = 128\n",
    "RESIDUAL_BLOCKS = 5\n",
    "BATCH_SIZE = 128\n",
    "EPOCHS = 2\n",
    "DEVICE = torch.device(\"cuda\" if torch.cuda.is_available() else \"cpu\")"
   ]
  },
  {
   "cell_type": "code",
   "execution_count": 10,
   "metadata": {},
   "outputs": [
    {
     "name": "stderr",
     "output_type": "stream",
     "text": [
      "100%|██████████| 26.4M/26.4M [00:07<00:00, 3.52MB/s]\n",
      "100%|██████████| 29.5k/29.5k [00:00<00:00, 1.11MB/s]\n",
      "100%|██████████| 4.42M/4.42M [00:01<00:00, 3.60MB/s]\n",
      "100%|██████████| 5.15k/5.15k [00:00<?, ?B/s]\n"
     ]
    }
   ],
   "source": [
    "# Data Preparation\n",
    "transform = transforms.Compose([\n",
    "    transforms.Resize((IMAGE_SIZE, IMAGE_SIZE)),\n",
    "    transforms.ToTensor(),\n",
    "    transforms.Lambda(lambda x: (x * 255).float() // (256 // PIXEL_LEVELS))\n",
    "])\n",
    "path = \"./data\"\n",
    "dataset = datasets.FashionMNIST(root=path, train=True, download=True, transform=transform)\n",
    "data_loader = DataLoader(dataset, batch_size=BATCH_SIZE, shuffle=True)"
   ]
  },
  {
   "cell_type": "code",
   "execution_count": 11,
   "metadata": {},
   "outputs": [],
   "source": [
    "# Masked Convolution Layer\n",
    "class MaskedConv2d(nn.Conv2d):\n",
    "    def __init__(self, mask_type, *args, **kwargs):\n",
    "        super().__init__(*args, **kwargs)\n",
    "        self.register_buffer('mask', self.weight.data.clone())\n",
    "        _, _, h, w = self.weight.size()\n",
    "        self.mask.fill_(1)\n",
    "        self.mask[:, :, h // 2, w // 2 + (mask_type == 'B'):] = 0\n",
    "        self.mask[:, :, h // 2 + 1:] = 0\n",
    "\n",
    "    def forward(self, x):\n",
    "        self.weight.data *= self.mask\n",
    "        return super().forward(x)"
   ]
  },
  {
   "cell_type": "code",
   "execution_count": 13,
   "metadata": {},
   "outputs": [],
   "source": [
    "# Residual Block\n",
    "class ResidualBlock(nn.Module):\n",
    "    def __init__(self, filters):\n",
    "        super().__init__()\n",
    "        self.block = nn.Sequential(\n",
    "            nn.ReLU(),\n",
    "            nn.Conv2d(filters, filters // 2, kernel_size=1),\n",
    "            nn.ReLU(),\n",
    "            MaskedConv2d('B', filters // 2, filters // 2, kernel_size=3, padding=1),\n",
    "            nn.ReLU(),\n",
    "            nn.Conv2d(filters // 2, filters, kernel_size=1)\n",
    "        )\n",
    "\n",
    "    def forward(self, x):\n",
    "        return x + self.block(x)"
   ]
  },
  {
   "cell_type": "code",
   "execution_count": 16,
   "metadata": {},
   "outputs": [],
   "source": [
    "# PixelCNN Model\n",
    "class PixelCNN(nn.Module):\n",
    "    def __init__(self):\n",
    "        super().__init__()\n",
    "        self.model = nn.Sequential(\n",
    "            MaskedConv2d('A', 1, N_FILTERS, kernel_size=7, padding=3),\n",
    "            *[ResidualBlock(N_FILTERS) for _ in range(RESIDUAL_BLOCKS)],\n",
    "            nn.ReLU(),\n",
    "            MaskedConv2d('B', N_FILTERS, N_FILTERS, kernel_size=1),\n",
    "            nn.ReLU(),\n",
    "            MaskedConv2d('B', N_FILTERS, N_FILTERS, kernel_size=1),\n",
    "            nn.ReLU(),\n",
    "            nn.Conv2d(N_FILTERS, PIXEL_LEVELS, kernel_size=1)\n",
    "        )\n",
    "\n",
    "    def forward(self, x):\n",
    "        return self.model(x)\n",
    "\n",
    "model = PixelCNN().to(DEVICE)"
   ]
  },
  {
   "cell_type": "code",
   "execution_count": 18,
   "metadata": {},
   "outputs": [
    {
     "name": "stderr",
     "output_type": "stream",
     "text": [
      "Epoch 1/2: 100%|██████████| 469/469 [05:06<00:00,  1.53it/s]\n"
     ]
    },
    {
     "name": "stdout",
     "output_type": "stream",
     "text": [
      "Epoch 1, Loss: 0.4269\n"
     ]
    },
    {
     "name": "stderr",
     "output_type": "stream",
     "text": [
      "Epoch 2/2: 100%|██████████| 469/469 [09:12<00:00,  1.18s/it]  "
     ]
    },
    {
     "name": "stdout",
     "output_type": "stream",
     "text": [
      "Epoch 2, Loss: 0.3350\n"
     ]
    },
    {
     "name": "stderr",
     "output_type": "stream",
     "text": [
      "\n"
     ]
    }
   ],
   "source": [
    "optimizer = optim.Adam(model.parameters(), lr=0.0005)\n",
    "criterion = nn.CrossEntropyLoss()\n",
    "# Training Loop\n",
    "for epoch in range(EPOCHS):\n",
    "    model.train()\n",
    "    total_loss = 0\n",
    "    for images, _ in tqdm(data_loader, desc=f\"Epoch {epoch+1}/{EPOCHS}\"):\n",
    "        \n",
    "        images = images.to(DEVICE).squeeze(1)\n",
    "        optimizer.zero_grad()\n",
    "        inputs = images.float().unsqueeze(1)     # [batch, 1, H, W]\n",
    "        targets = images.long()                  # [batch, H, W]\n",
    "        outputs = model(inputs)                  # [batch, PIXEL_LEVELS, H, W]       \n",
    "        loss = criterion(outputs, targets)       # CrossEntropy expects float inputs and long targets \n",
    "        loss.backward()\n",
    "        optimizer.step() \n",
    "        total_loss += loss.item()   \n",
    "    avg_loss = total_loss / len(data_loader)\n",
    "    print(f\"Epoch {epoch+1}, Loss: {avg_loss:.4f}\")\n"
   ]
  },
  {
   "cell_type": "code",
   "execution_count": 19,
   "metadata": {},
   "outputs": [
    {
     "name": "stdout",
     "output_type": "stream",
     "text": [
      "Generated images shape: (10, 1, 16, 16)\n"
     ]
    }
   ],
   "source": [
    "def generate_images(model, num_images, temperature=1.0):\n",
    "    model.eval()\n",
    "    generated = torch.zeros(num_images, 1, IMAGE_SIZE, IMAGE_SIZE, device=DEVICE)\n",
    "    with torch.no_grad():\n",
    "        for row in range(IMAGE_SIZE):\n",
    "            for col in range(IMAGE_SIZE):\n",
    "                logits = model(generated.float())[:, :, row, col] / temperature\n",
    "                probs = torch.softmax(logits, dim=-1)\n",
    "                generated[:, 0, row, col] = torch.multinomial(probs, 1).squeeze(-1)\n",
    "    return generated.cpu().numpy() / PIXEL_LEVELS\n",
    "\n",
    "# Generate sample images\n",
    "sample_images = generate_images(model, num_images=10)\n",
    "print(\"Generated images shape:\", sample_images.shape)\n"
   ]
  },
  {
   "cell_type": "code",
   "execution_count": 20,
   "metadata": {},
   "outputs": [
    {
     "data": {
      "image/png": "[encoded data removed]",
      "text/plain": [
       "<Figure size 1000x400 with 10 Axes>"
      ]
     },
     "metadata": {},
     "output_type": "display_data"
    }
   ],
   "source": [
    "def plot_generated_images(images, n_cols=5):\n",
    "    n_rows = (len(images) + n_cols - 1) // n_cols\n",
    "    plt.figure(figsize=(2 * n_cols, 2 * n_rows))\n",
    "\n",
    "    for idx, img in enumerate(images):\n",
    "        plt.subplot(n_rows, n_cols, idx + 1)\n",
    "        plt.imshow(img.squeeze(), cmap='gray')\n",
    "        plt.axis('off')\n",
    "\n",
    "    plt.tight_layout()\n",
    "    plt.show()\n",
    "\n",
    "# Generate sample images (assuming you've done this step already)\n",
    "sample_images = generate_images(model, num_images=10, temperature=1.0)\n",
    "# Plot generated images\n",
    "plot_generated_images(sample_images)\n"
   ]
  }
 ],
 "metadata": {
  "kernelspec": {
   "display_name": "Python 3",
   "language": "python",
   "name": "python3"
  },
  "language_info": {
   "codemirror_mode": {
    "name": "ipython",
    "version": 3
   },
   "file_extension": ".py",
   "mimetype": "text/x-python",
   "name": "python",
   "nbconvert_exporter": "python",
   "pygments_lexer": "ipython3",
   "version": "3.11.9"
  }
 },
 "nbformat": 4,
 "nbformat_minor": 2
}
